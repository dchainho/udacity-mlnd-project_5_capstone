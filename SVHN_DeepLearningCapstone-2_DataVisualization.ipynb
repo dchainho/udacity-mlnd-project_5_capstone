{
 "cells": [
  {
   "cell_type": "markdown",
   "metadata": {},
   "source": [
    "# PREPROCESS DATA"
   ]
  },
  {
   "cell_type": "code",
   "execution_count": 1,
   "metadata": {
    "collapsed": true
   },
   "outputs": [],
   "source": [
    "# Import required modules\n",
    "from __future__ import print_function\n",
    "import matplotlib.pyplot as plt\n",
    "import numpy as np\n",
    "import os\n",
    "import sys\n",
    "import tarfile\n",
    "from IPython.display import display, Image\n",
    "from scipy import ndimage\n",
    "from sklearn.linear_model import LogisticRegression, SGDClassifier\n",
    "from sklearn.metrics import classification_report\n",
    "from six.moves.urllib.request import urlretrieve\n",
    "from six.moves import cPickle as pickle\n"
   ]
  },
  {
   "cell_type": "code",
   "execution_count": 2,
   "metadata": {
    "collapsed": false
   },
   "outputs": [
    {
     "name": "stdout",
     "output_type": "stream",
     "text": [
      "File found:  train.tar.gz\n",
      "File found:  test.tar.gz\n",
      "File found:  extra.tar.gz\n"
     ]
    }
   ],
   "source": [
    "url = 'http://ufldl.stanford.edu/housenumbers/'\n",
    "last_percent_reported = None\n",
    "\n",
    "def download_progress_hook(count, blockSize, totalSize):\n",
    "  \"\"\"A hook to report the progress of a download. This is mostly intended for users with\n",
    "  slow internet connections. Reports every 1% change in download progress.\n",
    "  \"\"\"\n",
    "  global last_percent_reported\n",
    "  percent = int(count * blockSize * 100 / totalSize)\n",
    "\n",
    "  if last_percent_reported != percent:\n",
    "    if percent % 5 == 0:\n",
    "      sys.stdout.write(\"%s%%\" % percent)\n",
    "      sys.stdout.flush()\n",
    "    else:\n",
    "      sys.stdout.write(\".\")\n",
    "      sys.stdout.flush()\n",
    "      \n",
    "    last_percent_reported = percent\n",
    "        \n",
    "def maybe_download(filename, force=False):\n",
    "  \"\"\"Download a file if not present, and make sure it's the right size.\"\"\"\n",
    "  if force or not os.path.exists(filename):\n",
    "    print('Attempting to download:', filename) \n",
    "    filename, _ = urlretrieve(url + filename, filename, reporthook=download_progress_hook)\n",
    "    print('\\nDownload Complete!')    \n",
    "  statinfo = os.stat(filename)\n",
    "  if statinfo.st_size > 0:\n",
    "    print ('File found: ', filename)  \n",
    "  \n",
    "  return filename\n",
    "\n",
    "train_filename = maybe_download('train.tar.gz')\n",
    "test_filename = maybe_download('test.tar.gz')\n",
    "extra_filename = maybe_download('extra.tar.gz')"
   ]
  },
  {
   "cell_type": "code",
   "execution_count": 3,
   "metadata": {
    "collapsed": false
   },
   "outputs": [
    {
     "name": "stdout",
     "output_type": "stream",
     "text": [
      "train already present - Skipping extraction of train.tar.gz.\n",
      "train\n",
      "test already present - Skipping extraction of test.tar.gz.\n",
      "test\n",
      "extra already present - Skipping extraction of extra.tar.gz.\n",
      "extra\n"
     ]
    }
   ],
   "source": [
    "def maybe_extract(filename, force=False):\n",
    "  root = os.path.splitext(os.path.splitext(filename)[0])[0]  # remove .tar.gz\n",
    "  if os.path.isdir(root) and not force:\n",
    "    # You may override by setting force=True.\n",
    "    print('%s already present - Skipping extraction of %s.' % (root, filename))\n",
    "  else:\n",
    "    print('Extracting data for %s. This may take a while. Please wait.' % root)\n",
    "    tar = tarfile.open(filename)\n",
    "    sys.stdout.flush()\n",
    "    tar.extractall()\n",
    "    tar.close()  \n",
    "  \n",
    "  print(root)\n",
    "  return root\n",
    "  \n",
    "train_folder = maybe_extract(train_filename)\n",
    "test_folder = maybe_extract(test_filename)\n",
    "extra_folder = maybe_extract(extra_filename)"
   ]
  },
  {
   "cell_type": "markdown",
   "metadata": {},
   "source": [
    "## PROCESS BOUNDING BOXES"
   ]
  },
  {
   "cell_type": "code",
   "execution_count": 4,
   "metadata": {
    "collapsed": false
   },
   "outputs": [],
   "source": [
    "import h5py\n",
    "\n",
    "def get_data_boxes(dsf, start_range, end_range):    \n",
    "    \n",
    "    dsf_name = dsf['digitStruct']['name']\n",
    "    dsf_box = dsf['digitStruct']['bbox']\n",
    "    train_data_boxes = {}\n",
    "    \n",
    "    for i in range(start_range, end_range):\n",
    "        img_file = dsf[dsf_name[i][0]].value.tostring().replace(\"\\x00\",\"\")\n",
    "        boxes = []\n",
    "        boxes_count = len(dsf[dsf_box[i].item()][\"label\"])\n",
    "        if boxes_count > 1:\n",
    "            for j in range(boxes_count):\n",
    "                box = {}\n",
    "                box[\"top\"] = dsf[dsf[dsf_box[i].item()][\"top\"].value[j].item()].value[0][0]\n",
    "                box[\"left\"] = dsf[dsf[dsf_box[i].item()][\"left\"].value[j].item()].value[0][0]\n",
    "                box[\"height\"] = dsf[dsf[dsf_box[i].item()][\"height\"].value[j].item()].value[0][0]\n",
    "                box[\"width\"] = dsf[dsf[dsf_box[i].item()][\"width\"].value[j].item()].value[0][0]\n",
    "                box[\"label\"] = dsf[dsf[dsf_box[i].item()][\"label\"].value[j].item()].value[0][0]\n",
    "                boxes.append(box)\n",
    "        else:\n",
    "            box = {}\n",
    "            box[\"top\"] = dsf[dsf_box[i].item()][\"top\"].value[0][0]\n",
    "            box[\"left\"] = dsf[dsf_box[i].item()][\"left\"].value[0][0]\n",
    "            box[\"height\"] = dsf[dsf_box[i].item()][\"height\"].value[0][0]\n",
    "            box[\"width\"] = dsf[dsf_box[i].item()][\"width\"].value[0][0]\n",
    "            box[\"label\"] = dsf[dsf_box[i].item()][\"label\"].value[0][0]            \n",
    "            boxes.append(box)\n",
    "    \n",
    "        train_data_boxes[img_file] = boxes    \n",
    "    \n",
    "    return train_data_boxes"
   ]
  },
  {
   "cell_type": "code",
   "execution_count": 6,
   "metadata": {
    "collapsed": false
   },
   "outputs": [],
   "source": [
    "train_size = 33402\n",
    "\n",
    "dsf_train_file = os.path.join(train_folder, 'digitStruct.mat')\n",
    "dsf_train = h5py.File(dsf_train_file, 'r')\n",
    "train_data_boxes = get_data_boxes(dsf_train, 0, train_size)"
   ]
  },
  {
   "cell_type": "code",
   "execution_count": null,
   "metadata": {
    "collapsed": true
   },
   "outputs": [],
   "source": [
    "#valid_size = 64\n",
    "\n",
    "#valid_data_boxes = get_data_boxes(dsf_train, train_size, train_size+valid_size)"
   ]
  },
  {
   "cell_type": "code",
   "execution_count": 5,
   "metadata": {
    "collapsed": false
   },
   "outputs": [],
   "source": [
    "test_size = 13068\n",
    "\n",
    "dsf_test_file = os.path.join(test_folder, 'digitStruct.mat')\n",
    "dsf_test = h5py.File(dsf_test_file, 'r')\n",
    "test_data_boxes = get_data_boxes(dsf_test, 0, test_size)"
   ]
  },
  {
   "cell_type": "code",
   "execution_count": 8,
   "metadata": {
    "collapsed": false
   },
   "outputs": [],
   "source": [
    "extra_size = 202353\n",
    "\n",
    "dsf_extra_file = os.path.join(extra_folder, 'digitStruct.mat')\n",
    "dsf_extra = h5py.File(dsf_extra_file, 'r')\n",
    "extra_data_boxes = get_data_boxes(dsf_extra, 0, extra_size)"
   ]
  },
  {
   "cell_type": "code",
   "execution_count": 9,
   "metadata": {
    "collapsed": false
   },
   "outputs": [
    {
     "name": "stdout",
     "output_type": "stream",
     "text": [
      "Extra sizes:\n",
      "\n",
      "Max Width: 668 198955.png\n",
      "Min Width: 22 56511.png\n",
      "Max Height: 415 100972.png\n",
      "Min Height: 13 105260.png\n",
      "Max Img Size: 253172 104222.png\n",
      "Min Img Size: 330 127904.png\n"
     ]
    }
   ],
   "source": [
    "import PIL.Image as Image\n",
    "\n",
    "def dataset_stats(boxes_data, folder):\n",
    "    width_max = (0,'')\n",
    "    width_min = (9999,'')\n",
    "    height_max = (0,'')\n",
    "    height_min = (9999,'')\n",
    "    pixel_count_max = (0,'')\n",
    "    pixel_count_min = (9999999,'')\n",
    "    for img_file in boxes_data.keys():\n",
    "        img_path = os.path.join(folder, img_file)\n",
    "        img = Image.open(img_path)\n",
    "        \n",
    "        width, height = img.size\n",
    "        pixel_count = width * height\n",
    "        \n",
    "        if width > width_max[0]:\n",
    "            width_max = (width, img_file)\n",
    "        if width < width_min[0]:\n",
    "            width_min = (width, img_file)\n",
    "            \n",
    "        if height > height_max[0]:\n",
    "            height_max = (height, img_file)\n",
    "        if height < height_min[0]:\n",
    "            height_min = (height, img_file) \n",
    "            \n",
    "        if pixel_count > pixel_count_max[0]:\n",
    "            pixel_count_max = (pixel_count, img_file)\n",
    "        if pixel_count < pixel_count_min[0]:\n",
    "            pixel_count_min = (pixel_count, img_file)\n",
    "    \n",
    "    return width_max, width_min, height_max, height_min, pixel_count_max, pixel_count_min\n",
    "\n",
    "width_max, width_min, height_max, height_min, pixel_count_max, pixel_count_min = dataset_stats(extra_data_boxes, extra_folder)\n",
    "\n",
    "print ('Extra sizes:')\n",
    "print ('')\n",
    "print ('Max Width:', width_max[0], width_max[1])\n",
    "print ('Min Width:', width_min[0], width_min[1])\n",
    "print ('Max Height:', height_max[0], height_max[1])\n",
    "print ('Min Height:', height_min[0], height_min[1])\n",
    "print ('Max Img Size:', pixel_count_max[0], pixel_count_max[1])\n",
    "print ('Min Img Size:', pixel_count_min[0], pixel_count_min[1])"
   ]
  },
  {
   "cell_type": "markdown",
   "metadata": {},
   "source": [
    "# LOAD DATA"
   ]
  },
  {
   "cell_type": "code",
   "execution_count": null,
   "metadata": {
    "collapsed": true
   },
   "outputs": [],
   "source": []
  }
 ],
 "metadata": {
  "kernelspec": {
   "display_name": "Python 2",
   "language": "python",
   "name": "python2"
  },
  "language_info": {
   "codemirror_mode": {
    "name": "ipython",
    "version": 2
   },
   "file_extension": ".py",
   "mimetype": "text/x-python",
   "name": "python",
   "nbconvert_exporter": "python",
   "pygments_lexer": "ipython2",
   "version": "2.7.6"
  }
 },
 "nbformat": 4,
 "nbformat_minor": 1
}
