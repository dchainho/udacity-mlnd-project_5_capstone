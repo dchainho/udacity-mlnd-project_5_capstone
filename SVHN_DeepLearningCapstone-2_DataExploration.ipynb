{
 "cells": [
  {
   "cell_type": "markdown",
   "metadata": {},
   "source": [
    "# PREPROCESS DATA"
   ]
  },
  {
   "cell_type": "code",
   "execution_count": 1,
   "metadata": {
    "collapsed": true
   },
   "outputs": [],
   "source": [
    "# Import required modules\n",
    "from __future__ import print_function\n",
    "import matplotlib.pyplot as plt\n",
    "import numpy as np\n",
    "import os\n",
    "import sys\n",
    "import tarfile\n",
    "from IPython.display import display, Image\n",
    "from scipy import ndimage\n",
    "from sklearn.linear_model import LogisticRegression, SGDClassifier\n",
    "from sklearn.metrics import classification_report\n",
    "from six.moves.urllib.request import urlretrieve\n",
    "from six.moves import cPickle as pickle\n"
   ]
  },
  {
   "cell_type": "markdown",
   "metadata": {},
   "source": [
    "# LOAD DATA"
   ]
  },
  {
   "cell_type": "code",
   "execution_count": 4,
   "metadata": {
    "collapsed": false
   },
   "outputs": [
    {
     "name": "stdout",
     "output_type": "stream",
     "text": [
      "Training set (208644, 32, 32, 1) (208644, 6)\n",
      "Validation set (27110, 32, 32, 1) (27110, 6)\n",
      "Test set (13068, 32, 32, 1) (13068, 6)\n"
     ]
    }
   ],
   "source": [
    "pickle_file = './pickles/SVHN_train-valid-test_norm.pickle'\n",
    "\n",
    "with open(pickle_file, 'rb') as f:\n",
    "  load = pickle.load(f)\n",
    "  X_train = load['X_train']\n",
    "  y_train = load['y_train']\n",
    "  X_valid = load['X_valid']\n",
    "  y_valid = load['y_valid']\n",
    "  X_test = load['X_test']\n",
    "  y_test = load['y_test']\n",
    "  del load\n",
    "\n",
    "print('Training set', X_train.shape, y_train.shape)\n",
    "print('Validation set', X_valid.shape, y_valid.shape)\n",
    "print('Test set', X_test.shape, y_test.shape)"
   ]
  },
  {
   "cell_type": "code",
   "execution_count": 12,
   "metadata": {
    "collapsed": false,
    "scrolled": true
   },
   "outputs": [
    {
     "name": "stdout",
     "output_type": "stream",
     "text": [
      "Train Dataset - Number of Digits Distribution\n",
      "0\n",
      "2289\n",
      "12250\n",
      "11490\n",
      "1073\n",
      "8\n"
     ]
    }
   ],
   "source": [
    "print ('Train Dataset - Number of Digits Distribution')\n",
    "for i in range(6):\n",
    "   # print ('Samples with ' + str(i) + ' digits:', np.sum(y_train[:,0] == i))\n",
    "    print (np.sum(y_valid[:,0] == i))"
   ]
  },
  {
   "cell_type": "code",
   "execution_count": 9,
   "metadata": {
    "collapsed": false,
    "scrolled": true
   },
   "outputs": [
    {
     "name": "stdout",
     "output_type": "stream",
     "text": [
      "Train Dataset - Digit Distribution for S1\n",
      "Blank:  0\n",
      "110\n",
      "3000\n",
      "3000\n",
      "3000\n",
      "3000\n",
      "3000\n",
      "3000\n",
      "3000\n",
      "3000\n",
      "3000\n",
      "Train Dataset - Digit Distribution for S2\n",
      "Blank:  2289\n",
      "3032\n",
      "2725\n",
      "2858\n",
      "2538\n",
      "2348\n",
      "2652\n",
      "2178\n",
      "2441\n",
      "2049\n",
      "2000\n",
      "Train Dataset - Digit Distribution for S3\n",
      "Blank:  14539\n",
      "1833\n",
      "1219\n",
      "1187\n",
      "1193\n",
      "1031\n",
      "1583\n",
      "1070\n",
      "1290\n",
      "1056\n",
      "1109\n",
      "Train Dataset - Digit Distribution for S4\n",
      "Blank:  26029\n",
      "183\n",
      "91\n",
      "96\n",
      "110\n",
      "88\n",
      "132\n",
      "100\n",
      "111\n",
      "80\n",
      "90\n",
      "Train Dataset - Digit Distribution for S5\n",
      "Blank:  27102\n",
      "1\n",
      "2\n",
      "0\n",
      "1\n",
      "0\n",
      "0\n",
      "0\n",
      "0\n",
      "0\n",
      "4\n"
     ]
    }
   ],
   "source": [
    "for j in range(5):\n",
    "    print ('Train Dataset - Digit Distribution for S'+str(j+1))\n",
    "    print ('Blank: ', np.sum(y_valid[:,j+1] == 10))\n",
    "    for i in range(10):\n",
    "        print (str(np.sum(y_valid[:,j+1] == (i))))\n",
    "        #print (str(i) + ':     ', np.sum(y_train[:,j+1] == (i)))\n",
    "        #if i == 9:\n",
    "        #    print ('0:     ', np.sum(y_train[:,j+1] == (i+1)))\n",
    "        #else:\n",
    "        #    print (str(i+1) + ':     ', np.sum(y_train[:,j+1] == (i+1)))"
   ]
  },
  {
   "cell_type": "code",
   "execution_count": null,
   "metadata": {
    "collapsed": false
   },
   "outputs": [],
   "source": [
    "for i in range(10):\n",
    "    print (str(i) + ',' + str(np.sum(y_train[:,0] == (i))))"
   ]
  },
  {
   "cell_type": "code",
   "execution_count": null,
   "metadata": {
    "collapsed": true
   },
   "outputs": [],
   "source": []
  }
 ],
 "metadata": {
  "kernelspec": {
   "display_name": "Python 2",
   "language": "python",
   "name": "python2"
  },
  "language_info": {
   "codemirror_mode": {
    "name": "ipython",
    "version": 2
   },
   "file_extension": ".py",
   "mimetype": "text/x-python",
   "name": "python",
   "nbconvert_exporter": "python",
   "pygments_lexer": "ipython2",
   "version": "2.7.6"
  }
 },
 "nbformat": 4,
 "nbformat_minor": 1
}
